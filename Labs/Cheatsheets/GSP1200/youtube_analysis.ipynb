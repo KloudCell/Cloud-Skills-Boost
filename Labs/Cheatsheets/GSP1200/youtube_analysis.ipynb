{
 "cells": [
  {
   "cell_type": "code",
   "execution_count": null,
   "id": "585e8b5b-bcef-4a5f-8d9c-a4c820d6579c",
   "metadata": {
    "tags": []
   },
   "outputs": [],
   "source": [
    "!pip install --upgrade --user google-cloud-aiplatform>=1.29.0 google-cloud-storage langchain pytube youtube-transcript-api chromadb gradio pydantic\n",
    "# You may safely ignore dependency warnings below"
   ]
  },
  {
   "cell_type": "code",
   "execution_count": null,
   "id": "8ea3eafd-08be-49f1-80dc-3216f23d8996",
   "metadata": {
    "tags": []
   },
   "outputs": [],
   "source": [
    "# get project ID\n",
    "PROJECT_ID = ! gcloud config get project\n",
    "PROJECT_ID = PROJECT_ID[0]\n",
    "REGION = ! gcloud compute project-info describe --project $PROJECT_ID --format=\"value(commonInstanceMetadata.items.google-compute-default-region)\"\n",
    "LOCATION = REGION[0] # <-- Enter assigned region here.\n",
    "# generate an unique id for this session\n",
    "from datetime import datetime\n",
    "UID = datetime.now().strftime(\"%m%d%H%M\")"
   ]
  },
  {
   "cell_type": "code",
   "execution_count": null,
   "id": "b23f4928-e2eb-4236-9ea4-e7c75b486a21",
   "metadata": {
    "tags": []
   },
   "outputs": [],
   "source": [
    "# init the vertexai package\n",
    "import vertexai\n",
    "vertexai.init(project=PROJECT_ID, location=LOCATION)"
   ]
  },
  {
   "cell_type": "code",
   "execution_count": null,
   "id": "9c17f158-5345-4cde-a8dd-3f3832afb478",
   "metadata": {
    "tags": []
   },
   "outputs": [],
   "source": [
    "from langchain.document_loaders import YoutubeLoader\n",
    "from langchain.text_splitter import RecursiveCharacterTextSplitter\n",
    "from langchain.vectorstores import Chroma\n",
    "from langchain.chains import RetrievalQA\n",
    "from langchain.llms import VertexAI\n",
    "\n",
    "llm = VertexAI(\n",
    "    model_name=\"text-bison@001\",\n",
    "    max_output_tokens=256,\n",
    "    temperature=0.1,\n",
    "    top_p=0.8,\n",
    "    top_k=40,\n",
    "    verbose=True,\n",
    ")\n",
    "\n"
   ]
  },
  {
   "cell_type": "code",
   "execution_count": null,
   "id": "91bf0e0f-247a-4156-93da-805255260b08",
   "metadata": {
    "tags": []
   },
   "outputs": [],
   "source": [
    "from langchain.embeddings import VertexAIEmbeddings\n",
    "\n",
    "# Embedding\n",
    "EMBEDDING_QPM = 100\n",
    "EMBEDDING_NUM_BATCH =5\n",
    "\n",
    "embeddings = VertexAIEmbeddings(\n",
    "    requests_per_minute=EMBEDDING_QPM,\n",
    "    num_instances_per_batch=EMBEDDING_NUM_BATCH,\n",
    ")"
   ]
  },
  {
   "cell_type": "code",
   "execution_count": null,
   "id": "d2db0bc4-1e9b-4232-a3ea-718a4381957b",
   "metadata": {
    "tags": []
   },
   "outputs": [],
   "source": [
    "loader = YoutubeLoader.from_youtube_url(\"https://www.youtube.com/watch?v=XX2XpqklUrE\", add_video_info=True)\n",
    "result = loader.load()\n"
   ]
  },
  {
   "cell_type": "code",
   "execution_count": null,
   "id": "79f75d17-cbf6-401b-b92b-b4e3912be9c7",
   "metadata": {
    "tags": []
   },
   "outputs": [],
   "source": [
    "text_splitter = RecursiveCharacterTextSplitter(chunk_size=1500, chunk_overlap=0)\n",
    "docs = text_splitter.split_documents(result)\n",
    "print(f\"# of documents = {len(docs)}\")\n"
   ]
  },
  {
   "cell_type": "code",
   "execution_count": null,
   "id": "7d60bdba-a04f-4e7f-aca5-5eb50ef206d1",
   "metadata": {
    "tags": []
   },
   "outputs": [],
   "source": [
    "embedding_list = embeddings.embed_documents([doc.page_content for doc in docs])\n",
    "print(f\"You have {len(embedding_list)} embeddings\")\n",
    "print(f\"Here's a sample of one: {embedding_list[0][:3]}...\")\n"
   ]
  },
  {
   "cell_type": "code",
   "execution_count": null,
   "id": "c8696a92-bf4a-41d2-9570-7ae64a4c3ee7",
   "metadata": {
    "tags": []
   },
   "outputs": [],
   "source": [
    "db = Chroma.from_documents(docs, embeddings)\n",
    "retriever = db.as_retriever(search_type=\"similarity\", search_kwargs={\"k\": 2})\n"
   ]
  },
  {
   "cell_type": "code",
   "execution_count": null,
   "id": "dbdfafd0-73da-4fce-9762-31ada15185c9",
   "metadata": {
    "tags": []
   },
   "outputs": [],
   "source": [
    "qa = RetrievalQA.from_chain_type( llm=llm, chain_type=\"stuff\", retriever=retriever, return_source_documents=True)\n"
   ]
  },
  {
   "cell_type": "code",
   "execution_count": null,
   "id": "24bceef2-5519-40e8-8cb0-0071b8a89c1a",
   "metadata": {
    "tags": []
   },
   "outputs": [],
   "source": [
    "def sm_ask(question, print_results=True):\n",
    "  video_subset = qa({\"query\": question})\n",
    "  context = video_subset\n",
    "  prompt = f\"\"\"\n",
    "  Answer the following question in a detailed manner, using information from the text below. If the answer is not in the text,say I dont know and do not generate your own response.\n",
    "\n",
    "  Question:\n",
    "  {question}\n",
    "  Text:\n",
    "  {context}\n",
    "\n",
    "  Question:\n",
    "  {question}\n",
    "\n",
    "  Answer:\n",
    "  \"\"\"\n",
    "  parameters = {\n",
    "      \"temperature\": 0.1,\n",
    "      \"max_output_tokens\": 256,\n",
    "      \"top_p\": 0.8,\n",
    "      \"top_k\": 40\n",
    "  }\n",
    "  response = llm.predict(prompt, **parameters)\n",
    "  return {\n",
    "      \"answer\": response\n",
    "  }\n"
   ]
  },
  {
   "cell_type": "code",
   "execution_count": null,
   "id": "f9165f3c-adf3-4a60-90ec-fa1b0c1cf2f6",
   "metadata": {
    "tags": []
   },
   "outputs": [],
   "source": [
    "import gradio as gr\n",
    "def get_response(input_text):\n",
    "  response = sm_ask(input_text)\n",
    "  return response\n",
    "\n",
    "grapp = gr.Interface(fn=get_response, inputs=\"text\", outputs=\"text\")\n",
    "grapp.launch(share=True)\n"
   ]
  }
 ],
 "metadata": {
  "environment": {
   "kernel": "python3",
   "name": "tf2-cpu.2-11.m114",
   "type": "gcloud",
   "uri": "gcr.io/deeplearning-platform-release/tf2-cpu.2-11:m114"
  },
  "kernelspec": {
   "display_name": "Python 3 (Local)",
   "language": "python",
   "name": "python3"
  },
  "language_info": {
   "codemirror_mode": {
    "name": "ipython",
    "version": 3
   },
   "file_extension": ".py",
   "mimetype": "text/x-python",
   "name": "python",
   "nbconvert_exporter": "python",
   "pygments_lexer": "ipython3",
   "version": "3.10.13"
  }
 },
 "nbformat": 4,
 "nbformat_minor": 5
}
